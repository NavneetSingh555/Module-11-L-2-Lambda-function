{
 "cells": [
  {
   "cell_type": "code",
   "execution_count": 1,
   "id": "e2424caf-5195-4321-952e-36cb8f69c3c7",
   "metadata": {},
   "outputs": [],
   "source": [
    "n=3\n",
    "p=2  #find  n to the power p"
   ]
  },
  {
   "cell_type": "code",
   "execution_count": 2,
   "id": "3146a44c-d8db-4ac9-b28b-3b8f1f327ad4",
   "metadata": {},
   "outputs": [],
   "source": [
    "def test(n,p):\n",
    "    return n**p"
   ]
  },
  {
   "cell_type": "code",
   "execution_count": 3,
   "id": "03a6122c-d285-4a77-b214-9a30a4e041f0",
   "metadata": {},
   "outputs": [
    {
     "data": {
      "text/plain": [
       "9"
      ]
     },
     "execution_count": 3,
     "metadata": {},
     "output_type": "execute_result"
    }
   ],
   "source": [
    "test(3,2)"
   ]
  },
  {
   "cell_type": "code",
   "execution_count": 10,
   "id": "25958e16-c0fe-4fcf-a057-1fc913364cad",
   "metadata": {},
   "outputs": [
    {
     "data": {
      "text/plain": [
       "<function __main__.<lambda>(n, p)>"
      ]
     },
     "execution_count": 10,
     "metadata": {},
     "output_type": "execute_result"
    }
   ],
   "source": [
    "lambda n,p: n**p"
   ]
  },
  {
   "cell_type": "code",
   "execution_count": 11,
   "id": "51c5163e-09ca-4e17-8e4f-65b80f41f15f",
   "metadata": {},
   "outputs": [],
   "source": [
    "a=lambda n,p: n**p   #called this type of function lambda , one liner f(n) , anonymous function"
   ]
  },
  {
   "cell_type": "code",
   "execution_count": 12,
   "id": "9295f75b-5196-4a3f-82eb-7a3e6c010f7e",
   "metadata": {},
   "outputs": [
    {
     "data": {
      "text/plain": [
       "<function __main__.<lambda>(n, p)>"
      ]
     },
     "execution_count": 12,
     "metadata": {},
     "output_type": "execute_result"
    }
   ],
   "source": [
    "a"
   ]
  },
  {
   "cell_type": "code",
   "execution_count": 13,
   "id": "5eea485b-62f1-4047-9753-3ec9fa4f9ee0",
   "metadata": {},
   "outputs": [
    {
     "data": {
      "text/plain": [
       "9"
      ]
     },
     "execution_count": 13,
     "metadata": {},
     "output_type": "execute_result"
    }
   ],
   "source": [
    "a(3,2)"
   ]
  },
  {
   "cell_type": "code",
   "execution_count": 14,
   "id": "dd70974e-56c1-4d3d-b22f-a27dcfcd7c7e",
   "metadata": {},
   "outputs": [],
   "source": [
    "add = lambda x,y : x+y"
   ]
  },
  {
   "cell_type": "code",
   "execution_count": 15,
   "id": "125b6dff-85e5-4082-81d4-d9fdb5b99c08",
   "metadata": {},
   "outputs": [
    {
     "data": {
      "text/plain": [
       "9"
      ]
     },
     "execution_count": 15,
     "metadata": {},
     "output_type": "execute_result"
    }
   ],
   "source": [
    "add(4,5)"
   ]
  },
  {
   "cell_type": "code",
   "execution_count": 18,
   "id": "a0dc6986-12f5-4eec-ac0b-315b04070746",
   "metadata": {},
   "outputs": [],
   "source": [
    "c_to_f = lambda c : (9/5)*c + 32"
   ]
  },
  {
   "cell_type": "code",
   "execution_count": 19,
   "id": "27b05df9-00f4-4271-989b-615fbd4af260",
   "metadata": {},
   "outputs": [
    {
     "data": {
      "text/plain": [
       "113.0"
      ]
     },
     "execution_count": 19,
     "metadata": {},
     "output_type": "execute_result"
    }
   ],
   "source": [
    "c_to_f(45)"
   ]
  },
  {
   "cell_type": "code",
   "execution_count": 20,
   "id": "11221a9e-382b-47a5-a2dc-84e0b55737c7",
   "metadata": {},
   "outputs": [],
   "source": [
    "# finding the  max. no. of two number using lambda function"
   ]
  },
  {
   "cell_type": "code",
   "execution_count": 23,
   "id": "3f375ce8-20d2-4584-b37c-8656ee5ec9ac",
   "metadata": {},
   "outputs": [],
   "source": [
    "finding_max = lambda x,y : x if x>y else y "
   ]
  },
  {
   "cell_type": "code",
   "execution_count": 24,
   "id": "4672fc6d-b6b7-4671-bfb9-4f08aebea2ed",
   "metadata": {},
   "outputs": [
    {
     "data": {
      "text/plain": [
       "34"
      ]
     },
     "execution_count": 24,
     "metadata": {},
     "output_type": "execute_result"
    }
   ],
   "source": [
    "finding_max(34,23)"
   ]
  },
  {
   "cell_type": "code",
   "execution_count": 25,
   "id": "05e8a11e-3c5c-494b-9f70-8883637a012a",
   "metadata": {},
   "outputs": [],
   "source": [
    "s=\"pwskills\""
   ]
  },
  {
   "cell_type": "code",
   "execution_count": 28,
   "id": "f2bd9312-4a00-4f8a-b286-58045b75a83e",
   "metadata": {},
   "outputs": [],
   "source": [
    "find_length = lambda p: len(p)"
   ]
  },
  {
   "cell_type": "code",
   "execution_count": 29,
   "id": "e15466f0-e198-4845-89c7-7f1af3d81b07",
   "metadata": {},
   "outputs": [
    {
     "data": {
      "text/plain": [
       "8"
      ]
     },
     "execution_count": 29,
     "metadata": {},
     "output_type": "execute_result"
    }
   ],
   "source": [
    "find_length(s)"
   ]
  },
  {
   "cell_type": "code",
   "execution_count": null,
   "id": "80daca73-237b-4d60-a9f1-c686d1fa25aa",
   "metadata": {},
   "outputs": [],
   "source": []
  }
 ],
 "metadata": {
  "kernelspec": {
   "display_name": "Python 3 (ipykernel)",
   "language": "python",
   "name": "python3"
  },
  "language_info": {
   "codemirror_mode": {
    "name": "ipython",
    "version": 3
   },
   "file_extension": ".py",
   "mimetype": "text/x-python",
   "name": "python",
   "nbconvert_exporter": "python",
   "pygments_lexer": "ipython3",
   "version": "3.10.8"
  }
 },
 "nbformat": 4,
 "nbformat_minor": 5
}
